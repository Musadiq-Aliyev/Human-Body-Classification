{
 "cells": [
  {
   "cell_type": "code",
   "execution_count": 1,
   "metadata": {},
   "outputs": [
    {
     "name": "stderr",
     "output_type": "stream",
     "text": [
      "Using TensorFlow backend.\n"
     ]
    }
   ],
   "source": [
    "import numpy as np\n",
    "import pandas as pd \n",
    "import matplotlib.pyplot as plt\n",
    "from matplotlib.offsetbox import OffsetImage, AnnotationBbox\n",
    "%matplotlib inline\n",
    "import tensorflow as tf\n",
    "import keras\n",
    "import glob\n",
    "import cv2\n",
    "import pickle, datetime\n",
    "\n",
    "from keras.models import Model, Sequential\n",
    "from keras.layers import Dense, Dropout, Flatten, Conv2D, MaxPooling2D,GlobalAveragePooling2D\n",
    "from keras.layers import LSTM, Input,Activation\n",
    "\n",
    "from keras.optimizers import RMSprop, SGD, Adam \n",
    "from keras.layers.normalization import BatchNormalization\n",
    "from keras.utils import np_utils\n",
    "from keras import optimizers\n",
    "from keras.preprocessing import sequence\n",
    "from keras.preprocessing.image import ImageDataGenerator, array_to_img, img_to_array, load_img\n",
    "from keras.models import load_model\n",
    "\n",
    "from sklearn.preprocessing import LabelBinarizer\n",
    "from sklearn.ensemble import RandomForestClassifier\n",
    "from sklearn.metrics import accuracy_score\n",
    "# Import the backend\n",
    "from keras import backend as K\n",
    "\n",
    "import os"
   ]
  },
  {
   "cell_type": "markdown",
   "metadata": {},
   "source": [
    "# Loading Images"
   ]
  },
  {
   "cell_type": "code",
   "execution_count": 2,
   "metadata": {},
   "outputs": [],
   "source": [
    "img_dir='DS'\n",
    "train_body_images = []\n",
    "train_body_labels = [] \n",
    "\n",
    "for img_path in glob.glob(os.path.join(img_dir,'*.jpeg')):\n",
    "\n",
    "    body_label = img_path.split(\"\\\\\")[-1]\n",
    "\n",
    "    img = cv2.imread(img_path, cv2.IMREAD_COLOR)       \n",
    "    img = cv2.resize(img, (32, 32))\n",
    "    img = cv2.cvtColor(img, cv2.COLOR_RGB2BGR)\n",
    "    train_body_images.append(img)\n",
    "    train_body_labels.append(body_label[0:body_label.find('#')])\n",
    "train_body_images = np.array(train_body_images)\n",
    "train_body_labels = np.array(train_body_labels)"
   ]
  },
  {
   "cell_type": "markdown",
   "metadata": {},
   "source": [
    "# Preprocessing"
   ]
  },
  {
   "cell_type": "code",
   "execution_count": 3,
   "metadata": {},
   "outputs": [],
   "source": [
    "label_to_num = {v:i for i,v in enumerate(np.unique(train_body_labels))}\n",
    "num_to_label = {v: k for k, v in label_to_num.items()}"
   ]
  },
  {
   "cell_type": "code",
   "execution_count": 4,
   "metadata": {},
   "outputs": [
    {
     "data": {
      "text/plain": [
       "{0: 'Abdomen_CT Sample', 1: 'Chest_CT Sample', 2: 'Head_CT Sample'}"
      ]
     },
     "execution_count": 4,
     "metadata": {},
     "output_type": "execute_result"
    }
   ],
   "source": [
    "num_to_label"
   ]
  },
  {
   "cell_type": "code",
   "execution_count": 5,
   "metadata": {},
   "outputs": [],
   "source": [
    "train_label_num = np.array([label_to_num[x] for x in train_body_labels])"
   ]
  },
  {
   "cell_type": "code",
   "execution_count": 6,
   "metadata": {},
   "outputs": [
    {
     "data": {
      "text/plain": [
       "((1500, 32, 32, 3), (1500,), (1500,))"
      ]
     },
     "execution_count": 6,
     "metadata": {},
     "output_type": "execute_result"
    }
   ],
   "source": [
    "train_body_images.shape, train_label_num.shape, train_body_labels.shape"
   ]
  },
  {
   "cell_type": "code",
   "execution_count": 7,
   "metadata": {},
   "outputs": [],
   "source": [
    "from sklearn.model_selection import train_test_split\n",
    "x_train, x_test, y_train, y_test = train_test_split(train_body_images, train_label_num, test_size = 0.2, shuffle=True, random_state=2)"
   ]
  },
  {
   "cell_type": "code",
   "execution_count": 8,
   "metadata": {},
   "outputs": [],
   "source": [
    "n_class=len(label_to_num)"
   ]
  },
  {
   "cell_type": "code",
   "execution_count": 9,
   "metadata": {},
   "outputs": [
    {
     "name": "stdout",
     "output_type": "stream",
     "text": [
      "(1200, 32, 32, 3) (1200,) (300, 32, 32, 3) (300,) 3\n"
     ]
    }
   ],
   "source": [
    "print(x_train.shape, y_train.shape, x_test.shape, y_test.shape, n_class)"
   ]
  },
  {
   "cell_type": "code",
   "execution_count": 10,
   "metadata": {},
   "outputs": [],
   "source": [
    "#Normalization of the images and one-hot encoding of the labels\n",
    "\n",
    "x_train_normalized = np.array(x_train / 255.0 - 0.5 )\n",
    "x_test_normalized = np.array(x_test / 255.0 - 0.5 )\n",
    "\n",
    "label_binarizer = LabelBinarizer()\n",
    "y_train_hot = label_binarizer.fit_transform(y_train)\n",
    "y_test_hot = label_binarizer.fit_transform(y_test)"
   ]
  },
  {
   "cell_type": "markdown",
   "metadata": {},
   "source": [
    "# CNN Model"
   ]
  },
  {
   "cell_type": "code",
   "execution_count": 11,
   "metadata": {},
   "outputs": [],
   "source": [
    "def cnn_model(input_shape,nb_classes):\n",
    "    \n",
    "    model = Sequential() \n",
    "    model.add(Conv2D(filters=64, kernel_size=(3,3), padding='same', activation='relu', input_shape=input_shape))\n",
    "    model.add(MaxPooling2D(pool_size=(2,2)))\n",
    "    model.add(Dropout(0.5))\n",
    "\n",
    "    model.add(Conv2D(filters=128, kernel_size=(3,3), padding='same', activation='relu'))\n",
    "    model.add(MaxPooling2D(pool_size=(2,2)))\n",
    "    model.add(Dropout(0.5))\n",
    "\n",
    "\n",
    "    model.add(Conv2D(filters=256, kernel_size=(3,3), padding='same', activation='relu'))\n",
    "    model.add(MaxPooling2D(pool_size=(2,2)))\n",
    "    model.add(Dropout(0.5))\n",
    "\n",
    "    model.add(Conv2D(filters=512, kernel_size=(3,3), padding='same', activation='relu'))\n",
    "    model.add(BatchNormalization())\n",
    "    model.add(MaxPooling2D(pool_size=(2,2)))\n",
    "    model.add(Dropout(0.5))\n",
    "\n",
    "    model.add(GlobalAveragePooling2D()) \n",
    "    model.add(Dense(1024, init='glorot_normal')) \n",
    "    model.add(Activation('relu')) \n",
    "    model.add(Dropout(0.5)) \n",
    "\n",
    "    model.add(Dense(1024, init='glorot_normal')) \n",
    "    model.add(Activation('relu'))\n",
    "    model.add(Dropout(0.5))\n",
    "\n",
    "\n",
    "    model.add(Dense(nb_classes, init='glorot_normal')) \n",
    "    model.add(Activation('tanh'))\n",
    "\n",
    "    return model"
   ]
  },
  {
   "cell_type": "code",
   "execution_count": 12,
   "metadata": {},
   "outputs": [
    {
     "name": "stdout",
     "output_type": "stream",
     "text": [
      "Model: \"sequential_1\"\n",
      "_________________________________________________________________\n",
      "Layer (type)                 Output Shape              Param #   \n",
      "=================================================================\n",
      "conv2d_1 (Conv2D)            (None, 32, 32, 64)        1792      \n",
      "_________________________________________________________________\n",
      "max_pooling2d_1 (MaxPooling2 (None, 16, 16, 64)        0         \n",
      "_________________________________________________________________\n",
      "dropout_1 (Dropout)          (None, 16, 16, 64)        0         \n",
      "_________________________________________________________________\n",
      "conv2d_2 (Conv2D)            (None, 16, 16, 128)       73856     \n",
      "_________________________________________________________________\n",
      "max_pooling2d_2 (MaxPooling2 (None, 8, 8, 128)         0         \n",
      "_________________________________________________________________\n",
      "dropout_2 (Dropout)          (None, 8, 8, 128)         0         \n",
      "_________________________________________________________________\n",
      "conv2d_3 (Conv2D)            (None, 8, 8, 256)         295168    \n",
      "_________________________________________________________________\n",
      "max_pooling2d_3 (MaxPooling2 (None, 4, 4, 256)         0         \n",
      "_________________________________________________________________\n",
      "dropout_3 (Dropout)          (None, 4, 4, 256)         0         \n",
      "_________________________________________________________________\n",
      "conv2d_4 (Conv2D)            (None, 4, 4, 512)         1180160   \n",
      "_________________________________________________________________\n",
      "batch_normalization_1 (Batch (None, 4, 4, 512)         2048      \n",
      "_________________________________________________________________\n",
      "max_pooling2d_4 (MaxPooling2 (None, 2, 2, 512)         0         \n",
      "_________________________________________________________________\n",
      "dropout_4 (Dropout)          (None, 2, 2, 512)         0         \n",
      "_________________________________________________________________\n",
      "global_average_pooling2d_1 ( (None, 512)               0         \n",
      "_________________________________________________________________\n",
      "dense_1 (Dense)              (None, 1024)              525312    \n",
      "_________________________________________________________________\n",
      "activation_1 (Activation)    (None, 1024)              0         \n",
      "_________________________________________________________________\n",
      "dropout_5 (Dropout)          (None, 1024)              0         \n",
      "_________________________________________________________________\n",
      "dense_2 (Dense)              (None, 1024)              1049600   \n",
      "_________________________________________________________________\n",
      "activation_2 (Activation)    (None, 1024)              0         \n",
      "_________________________________________________________________\n",
      "dropout_6 (Dropout)          (None, 1024)              0         \n",
      "_________________________________________________________________\n",
      "dense_3 (Dense)              (None, 3)                 3075      \n",
      "_________________________________________________________________\n",
      "activation_3 (Activation)    (None, 3)                 0         \n",
      "=================================================================\n",
      "Total params: 3,131,011\n",
      "Trainable params: 3,129,987\n",
      "Non-trainable params: 1,024\n",
      "_________________________________________________________________\n"
     ]
    },
    {
     "name": "stderr",
     "output_type": "stream",
     "text": [
      "<ipython-input-11-29bbb073e0ae>:23: UserWarning: Update your `Dense` call to the Keras 2 API: `Dense(1024, kernel_initializer=\"glorot_normal\")`\n",
      "  model.add(Dense(1024, init='glorot_normal'))\n",
      "<ipython-input-11-29bbb073e0ae>:27: UserWarning: Update your `Dense` call to the Keras 2 API: `Dense(1024, kernel_initializer=\"glorot_normal\")`\n",
      "  model.add(Dense(1024, init='glorot_normal'))\n",
      "<ipython-input-11-29bbb073e0ae>:32: UserWarning: Update your `Dense` call to the Keras 2 API: `Dense(3, kernel_initializer=\"glorot_normal\")`\n",
      "  model.add(Dense(nb_classes, init='glorot_normal'))\n"
     ]
    }
   ],
   "source": [
    "cnn_model = cnn_model((32,32,3),n_class)\n",
    "cnn_model.summary()"
   ]
  },
  {
   "cell_type": "code",
   "execution_count": 13,
   "metadata": {},
   "outputs": [],
   "source": [
    "cnn_model.compile(loss='categorical_crossentropy', optimizer='adam',metrics=['accuracy'])"
   ]
  },
  {
   "cell_type": "code",
   "execution_count": 14,
   "metadata": {},
   "outputs": [
    {
     "name": "stdout",
     "output_type": "stream",
     "text": [
      "Train on 1200 samples, validate on 300 samples\n",
      "Epoch 1/5\n",
      "1200/1200 [==============================] - 16s 13ms/step - loss: 8.9995 - accuracy: 0.3292 - val_loss: 10.5305 - val_accuracy: 0.3600\n",
      "Epoch 2/5\n",
      "1200/1200 [==============================] - 16s 13ms/step - loss: 9.6709 - accuracy: 0.3267 - val_loss: 5.9100 - val_accuracy: 0.3633\n",
      "Epoch 3/5\n",
      "1200/1200 [==============================] - 17s 14ms/step - loss: 9.5365 - accuracy: 0.3250 - val_loss: 5.8025 - val_accuracy: 0.3600\n",
      "Epoch 4/5\n",
      "1200/1200 [==============================] - 16s 13ms/step - loss: 9.9664 - accuracy: 0.3258 - val_loss: 5.8025 - val_accuracy: 0.3633\n",
      "Epoch 5/5\n",
      "1200/1200 [==============================] - 15s 13ms/step - loss: 9.6037 - accuracy: 0.3242 - val_loss: 5.8025 - val_accuracy: 0.3600\n"
     ]
    },
    {
     "data": {
      "text/plain": [
       "<keras.callbacks.callbacks.History at 0x2614f87d7f0>"
      ]
     },
     "execution_count": 14,
     "metadata": {},
     "output_type": "execute_result"
    }
   ],
   "source": [
    "#Training the CNN model with the normalized image data and labels\n",
    "cnn_model.fit(x_train_normalized, y_train_hot, batch_size=15, epochs=5,verbose=1, validation_data=[x_test_normalized,y_test_hot])"
   ]
  },
  {
   "cell_type": "code",
   "execution_count": 15,
   "metadata": {},
   "outputs": [],
   "source": [
    "layer_name = 'dense_1'\n",
    "FC_layer_model = Model(inputs=cnn_model.input,\n",
    "                                 outputs=cnn_model.get_layer(layer_name).output)"
   ]
  },
  {
   "cell_type": "markdown",
   "metadata": {},
   "source": [
    "# Feature Extraction"
   ]
  },
  {
   "cell_type": "code",
   "execution_count": 16,
   "metadata": {},
   "outputs": [],
   "source": [
    "i=0\n",
    "features=np.zeros(shape=(1500,1024))\n",
    "\n",
    "for img_path in glob.glob(os.path.join(img_dir,'*.jpeg')):\n",
    "    img = cv2.imread(img_path, cv2.IMREAD_COLOR)    \n",
    "    img = cv2.resize(img, (32, 32))\n",
    "    img = cv2.cvtColor(img, cv2.COLOR_RGB2BGR)\n",
    "    img = np.expand_dims(img, axis=0)\n",
    "    FC_output = FC_layer_model.predict(img)\n",
    "    features[i]=FC_output\n",
    "    i+=1\n",
    "    if i==1500:\n",
    "        break"
   ]
  },
  {
   "cell_type": "code",
   "execution_count": 17,
   "metadata": {},
   "outputs": [
    {
     "data": {
      "text/plain": [
       "1500"
      ]
     },
     "execution_count": 17,
     "metadata": {},
     "output_type": "execute_result"
    }
   ],
   "source": [
    "len(features)"
   ]
  },
  {
   "cell_type": "code",
   "execution_count": 18,
   "metadata": {},
   "outputs": [],
   "source": [
    "feature_names=[]\n",
    "for i in range(1024):\n",
    "    feature_names.append(\"col_\"+str(i))\n",
    "    i+=1"
   ]
  },
  {
   "cell_type": "code",
   "execution_count": 19,
   "metadata": {},
   "outputs": [],
   "source": [
    "#Create DataFrame with features and coloumn name\n",
    "train_features=pd.DataFrame(data=features,columns=feature_names)\n",
    "feature_names = np.array(feature_names)"
   ]
  },
  {
   "cell_type": "code",
   "execution_count": 20,
   "metadata": {},
   "outputs": [
    {
     "data": {
      "text/html": [
       "<div>\n",
       "<style scoped>\n",
       "    .dataframe tbody tr th:only-of-type {\n",
       "        vertical-align: middle;\n",
       "    }\n",
       "\n",
       "    .dataframe tbody tr th {\n",
       "        vertical-align: top;\n",
       "    }\n",
       "\n",
       "    .dataframe thead th {\n",
       "        text-align: right;\n",
       "    }\n",
       "</style>\n",
       "<table border=\"1\" class=\"dataframe\">\n",
       "  <thead>\n",
       "    <tr style=\"text-align: right;\">\n",
       "      <th></th>\n",
       "      <th>col_0</th>\n",
       "      <th>col_1</th>\n",
       "      <th>col_2</th>\n",
       "      <th>col_3</th>\n",
       "      <th>col_4</th>\n",
       "      <th>col_5</th>\n",
       "      <th>col_6</th>\n",
       "      <th>col_7</th>\n",
       "      <th>col_8</th>\n",
       "      <th>col_9</th>\n",
       "      <th>...</th>\n",
       "      <th>col_1014</th>\n",
       "      <th>col_1015</th>\n",
       "      <th>col_1016</th>\n",
       "      <th>col_1017</th>\n",
       "      <th>col_1018</th>\n",
       "      <th>col_1019</th>\n",
       "      <th>col_1020</th>\n",
       "      <th>col_1021</th>\n",
       "      <th>col_1022</th>\n",
       "      <th>col_1023</th>\n",
       "    </tr>\n",
       "  </thead>\n",
       "  <tbody>\n",
       "    <tr>\n",
       "      <th>0</th>\n",
       "      <td>-222.507217</td>\n",
       "      <td>751.577698</td>\n",
       "      <td>-302.707916</td>\n",
       "      <td>-441.344757</td>\n",
       "      <td>-396.833282</td>\n",
       "      <td>-101.976181</td>\n",
       "      <td>-530.694702</td>\n",
       "      <td>-461.004242</td>\n",
       "      <td>-258.579742</td>\n",
       "      <td>375.487518</td>\n",
       "      <td>...</td>\n",
       "      <td>-340.363983</td>\n",
       "      <td>-63.819660</td>\n",
       "      <td>-416.149628</td>\n",
       "      <td>-236.072876</td>\n",
       "      <td>-61.185307</td>\n",
       "      <td>-214.990128</td>\n",
       "      <td>43.983704</td>\n",
       "      <td>411.510437</td>\n",
       "      <td>-437.762695</td>\n",
       "      <td>150.169067</td>\n",
       "    </tr>\n",
       "    <tr>\n",
       "      <th>1</th>\n",
       "      <td>-243.554398</td>\n",
       "      <td>869.131104</td>\n",
       "      <td>-349.803101</td>\n",
       "      <td>-507.908081</td>\n",
       "      <td>-439.861816</td>\n",
       "      <td>-124.647476</td>\n",
       "      <td>-607.029602</td>\n",
       "      <td>-533.003479</td>\n",
       "      <td>-305.682465</td>\n",
       "      <td>437.335724</td>\n",
       "      <td>...</td>\n",
       "      <td>-387.406311</td>\n",
       "      <td>-76.141579</td>\n",
       "      <td>-476.994904</td>\n",
       "      <td>-273.544739</td>\n",
       "      <td>-67.615631</td>\n",
       "      <td>-235.814499</td>\n",
       "      <td>55.247044</td>\n",
       "      <td>485.971741</td>\n",
       "      <td>-511.553009</td>\n",
       "      <td>170.470718</td>\n",
       "    </tr>\n",
       "    <tr>\n",
       "      <th>2</th>\n",
       "      <td>-200.793427</td>\n",
       "      <td>695.039734</td>\n",
       "      <td>-274.695679</td>\n",
       "      <td>-407.677673</td>\n",
       "      <td>-361.495605</td>\n",
       "      <td>-95.741394</td>\n",
       "      <td>-485.513916</td>\n",
       "      <td>-429.476929</td>\n",
       "      <td>-239.991592</td>\n",
       "      <td>346.556122</td>\n",
       "      <td>...</td>\n",
       "      <td>-314.518433</td>\n",
       "      <td>-56.168674</td>\n",
       "      <td>-382.356842</td>\n",
       "      <td>-214.582779</td>\n",
       "      <td>-58.734310</td>\n",
       "      <td>-198.571274</td>\n",
       "      <td>38.045200</td>\n",
       "      <td>380.940277</td>\n",
       "      <td>-401.793091</td>\n",
       "      <td>138.504562</td>\n",
       "    </tr>\n",
       "    <tr>\n",
       "      <th>3</th>\n",
       "      <td>-236.876678</td>\n",
       "      <td>803.319153</td>\n",
       "      <td>-321.407562</td>\n",
       "      <td>-471.175629</td>\n",
       "      <td>-419.262482</td>\n",
       "      <td>-107.459656</td>\n",
       "      <td>-565.037964</td>\n",
       "      <td>-490.751160</td>\n",
       "      <td>-275.357544</td>\n",
       "      <td>400.733948</td>\n",
       "      <td>...</td>\n",
       "      <td>-360.437958</td>\n",
       "      <td>-66.854065</td>\n",
       "      <td>-439.430939</td>\n",
       "      <td>-256.024811</td>\n",
       "      <td>-64.063179</td>\n",
       "      <td>-230.742432</td>\n",
       "      <td>48.923035</td>\n",
       "      <td>437.326447</td>\n",
       "      <td>-464.121521</td>\n",
       "      <td>162.618134</td>\n",
       "    </tr>\n",
       "    <tr>\n",
       "      <th>4</th>\n",
       "      <td>-242.037842</td>\n",
       "      <td>842.861755</td>\n",
       "      <td>-336.615967</td>\n",
       "      <td>-494.303864</td>\n",
       "      <td>-432.998535</td>\n",
       "      <td>-108.621239</td>\n",
       "      <td>-595.745850</td>\n",
       "      <td>-511.749023</td>\n",
       "      <td>-292.111786</td>\n",
       "      <td>413.527313</td>\n",
       "      <td>...</td>\n",
       "      <td>-374.639435</td>\n",
       "      <td>-69.745377</td>\n",
       "      <td>-466.247650</td>\n",
       "      <td>-263.598938</td>\n",
       "      <td>-70.010155</td>\n",
       "      <td>-234.953827</td>\n",
       "      <td>55.058327</td>\n",
       "      <td>455.282715</td>\n",
       "      <td>-488.815826</td>\n",
       "      <td>176.857941</td>\n",
       "    </tr>\n",
       "    <tr>\n",
       "      <th>...</th>\n",
       "      <td>...</td>\n",
       "      <td>...</td>\n",
       "      <td>...</td>\n",
       "      <td>...</td>\n",
       "      <td>...</td>\n",
       "      <td>...</td>\n",
       "      <td>...</td>\n",
       "      <td>...</td>\n",
       "      <td>...</td>\n",
       "      <td>...</td>\n",
       "      <td>...</td>\n",
       "      <td>...</td>\n",
       "      <td>...</td>\n",
       "      <td>...</td>\n",
       "      <td>...</td>\n",
       "      <td>...</td>\n",
       "      <td>...</td>\n",
       "      <td>...</td>\n",
       "      <td>...</td>\n",
       "      <td>...</td>\n",
       "      <td>...</td>\n",
       "    </tr>\n",
       "    <tr>\n",
       "      <th>1495</th>\n",
       "      <td>-261.438202</td>\n",
       "      <td>918.017273</td>\n",
       "      <td>-392.654144</td>\n",
       "      <td>-506.640289</td>\n",
       "      <td>-466.603882</td>\n",
       "      <td>-129.074631</td>\n",
       "      <td>-636.499634</td>\n",
       "      <td>-551.991150</td>\n",
       "      <td>-304.135193</td>\n",
       "      <td>442.627289</td>\n",
       "      <td>...</td>\n",
       "      <td>-397.621735</td>\n",
       "      <td>-107.445770</td>\n",
       "      <td>-507.996613</td>\n",
       "      <td>-319.212250</td>\n",
       "      <td>-64.955528</td>\n",
       "      <td>-264.614410</td>\n",
       "      <td>60.173847</td>\n",
       "      <td>503.918335</td>\n",
       "      <td>-548.462891</td>\n",
       "      <td>184.346237</td>\n",
       "    </tr>\n",
       "    <tr>\n",
       "      <th>1496</th>\n",
       "      <td>-245.841553</td>\n",
       "      <td>885.877197</td>\n",
       "      <td>-366.678223</td>\n",
       "      <td>-469.062256</td>\n",
       "      <td>-436.005524</td>\n",
       "      <td>-129.077393</td>\n",
       "      <td>-607.529236</td>\n",
       "      <td>-519.634583</td>\n",
       "      <td>-282.537750</td>\n",
       "      <td>421.249756</td>\n",
       "      <td>...</td>\n",
       "      <td>-363.412445</td>\n",
       "      <td>-92.306442</td>\n",
       "      <td>-475.679962</td>\n",
       "      <td>-312.884064</td>\n",
       "      <td>-47.641315</td>\n",
       "      <td>-262.374512</td>\n",
       "      <td>57.104500</td>\n",
       "      <td>485.987183</td>\n",
       "      <td>-515.789856</td>\n",
       "      <td>182.699860</td>\n",
       "    </tr>\n",
       "    <tr>\n",
       "      <th>1497</th>\n",
       "      <td>-235.628418</td>\n",
       "      <td>840.972778</td>\n",
       "      <td>-344.277740</td>\n",
       "      <td>-457.333862</td>\n",
       "      <td>-424.821716</td>\n",
       "      <td>-120.943634</td>\n",
       "      <td>-570.274475</td>\n",
       "      <td>-516.087036</td>\n",
       "      <td>-269.059509</td>\n",
       "      <td>406.972351</td>\n",
       "      <td>...</td>\n",
       "      <td>-348.657654</td>\n",
       "      <td>-92.241020</td>\n",
       "      <td>-454.943420</td>\n",
       "      <td>-296.447998</td>\n",
       "      <td>-58.577091</td>\n",
       "      <td>-236.166702</td>\n",
       "      <td>48.686623</td>\n",
       "      <td>457.817871</td>\n",
       "      <td>-489.652802</td>\n",
       "      <td>167.526703</td>\n",
       "    </tr>\n",
       "    <tr>\n",
       "      <th>1498</th>\n",
       "      <td>-222.359177</td>\n",
       "      <td>773.088135</td>\n",
       "      <td>-331.355988</td>\n",
       "      <td>-441.906464</td>\n",
       "      <td>-405.634155</td>\n",
       "      <td>-116.325630</td>\n",
       "      <td>-542.303406</td>\n",
       "      <td>-477.242279</td>\n",
       "      <td>-254.780838</td>\n",
       "      <td>380.254944</td>\n",
       "      <td>...</td>\n",
       "      <td>-340.856903</td>\n",
       "      <td>-89.519264</td>\n",
       "      <td>-427.004395</td>\n",
       "      <td>-268.408630</td>\n",
       "      <td>-58.897602</td>\n",
       "      <td>-230.799484</td>\n",
       "      <td>47.110676</td>\n",
       "      <td>429.254944</td>\n",
       "      <td>-463.466888</td>\n",
       "      <td>154.126038</td>\n",
       "    </tr>\n",
       "    <tr>\n",
       "      <th>1499</th>\n",
       "      <td>-239.548279</td>\n",
       "      <td>834.987366</td>\n",
       "      <td>-348.196686</td>\n",
       "      <td>-431.894012</td>\n",
       "      <td>-414.390930</td>\n",
       "      <td>-124.347702</td>\n",
       "      <td>-561.310913</td>\n",
       "      <td>-471.182129</td>\n",
       "      <td>-258.800354</td>\n",
       "      <td>389.214050</td>\n",
       "      <td>...</td>\n",
       "      <td>-337.652466</td>\n",
       "      <td>-85.987381</td>\n",
       "      <td>-431.104584</td>\n",
       "      <td>-300.133118</td>\n",
       "      <td>-40.307182</td>\n",
       "      <td>-251.006607</td>\n",
       "      <td>60.432953</td>\n",
       "      <td>440.979858</td>\n",
       "      <td>-462.342621</td>\n",
       "      <td>182.817520</td>\n",
       "    </tr>\n",
       "  </tbody>\n",
       "</table>\n",
       "<p>1500 rows × 1024 columns</p>\n",
       "</div>"
      ],
      "text/plain": [
       "           col_0       col_1       col_2       col_3       col_4       col_5  \\\n",
       "0    -222.507217  751.577698 -302.707916 -441.344757 -396.833282 -101.976181   \n",
       "1    -243.554398  869.131104 -349.803101 -507.908081 -439.861816 -124.647476   \n",
       "2    -200.793427  695.039734 -274.695679 -407.677673 -361.495605  -95.741394   \n",
       "3    -236.876678  803.319153 -321.407562 -471.175629 -419.262482 -107.459656   \n",
       "4    -242.037842  842.861755 -336.615967 -494.303864 -432.998535 -108.621239   \n",
       "...          ...         ...         ...         ...         ...         ...   \n",
       "1495 -261.438202  918.017273 -392.654144 -506.640289 -466.603882 -129.074631   \n",
       "1496 -245.841553  885.877197 -366.678223 -469.062256 -436.005524 -129.077393   \n",
       "1497 -235.628418  840.972778 -344.277740 -457.333862 -424.821716 -120.943634   \n",
       "1498 -222.359177  773.088135 -331.355988 -441.906464 -405.634155 -116.325630   \n",
       "1499 -239.548279  834.987366 -348.196686 -431.894012 -414.390930 -124.347702   \n",
       "\n",
       "           col_6       col_7       col_8       col_9  ...    col_1014  \\\n",
       "0    -530.694702 -461.004242 -258.579742  375.487518  ... -340.363983   \n",
       "1    -607.029602 -533.003479 -305.682465  437.335724  ... -387.406311   \n",
       "2    -485.513916 -429.476929 -239.991592  346.556122  ... -314.518433   \n",
       "3    -565.037964 -490.751160 -275.357544  400.733948  ... -360.437958   \n",
       "4    -595.745850 -511.749023 -292.111786  413.527313  ... -374.639435   \n",
       "...          ...         ...         ...         ...  ...         ...   \n",
       "1495 -636.499634 -551.991150 -304.135193  442.627289  ... -397.621735   \n",
       "1496 -607.529236 -519.634583 -282.537750  421.249756  ... -363.412445   \n",
       "1497 -570.274475 -516.087036 -269.059509  406.972351  ... -348.657654   \n",
       "1498 -542.303406 -477.242279 -254.780838  380.254944  ... -340.856903   \n",
       "1499 -561.310913 -471.182129 -258.800354  389.214050  ... -337.652466   \n",
       "\n",
       "        col_1015    col_1016    col_1017   col_1018    col_1019   col_1020  \\\n",
       "0     -63.819660 -416.149628 -236.072876 -61.185307 -214.990128  43.983704   \n",
       "1     -76.141579 -476.994904 -273.544739 -67.615631 -235.814499  55.247044   \n",
       "2     -56.168674 -382.356842 -214.582779 -58.734310 -198.571274  38.045200   \n",
       "3     -66.854065 -439.430939 -256.024811 -64.063179 -230.742432  48.923035   \n",
       "4     -69.745377 -466.247650 -263.598938 -70.010155 -234.953827  55.058327   \n",
       "...          ...         ...         ...        ...         ...        ...   \n",
       "1495 -107.445770 -507.996613 -319.212250 -64.955528 -264.614410  60.173847   \n",
       "1496  -92.306442 -475.679962 -312.884064 -47.641315 -262.374512  57.104500   \n",
       "1497  -92.241020 -454.943420 -296.447998 -58.577091 -236.166702  48.686623   \n",
       "1498  -89.519264 -427.004395 -268.408630 -58.897602 -230.799484  47.110676   \n",
       "1499  -85.987381 -431.104584 -300.133118 -40.307182 -251.006607  60.432953   \n",
       "\n",
       "        col_1021    col_1022    col_1023  \n",
       "0     411.510437 -437.762695  150.169067  \n",
       "1     485.971741 -511.553009  170.470718  \n",
       "2     380.940277 -401.793091  138.504562  \n",
       "3     437.326447 -464.121521  162.618134  \n",
       "4     455.282715 -488.815826  176.857941  \n",
       "...          ...         ...         ...  \n",
       "1495  503.918335 -548.462891  184.346237  \n",
       "1496  485.987183 -515.789856  182.699860  \n",
       "1497  457.817871 -489.652802  167.526703  \n",
       "1498  429.254944 -463.466888  154.126038  \n",
       "1499  440.979858 -462.342621  182.817520  \n",
       "\n",
       "[1500 rows x 1024 columns]"
      ]
     },
     "execution_count": 20,
     "metadata": {},
     "output_type": "execute_result"
    }
   ],
   "source": [
    "train_features"
   ]
  },
  {
   "cell_type": "code",
   "execution_count": 21,
   "metadata": {},
   "outputs": [],
   "source": [
    "from sklearn.model_selection import train_test_split\n",
    "x_train_1, x_test_1, y_train_1, y_test_1 = train_test_split(train_features, train_label_num, test_size = 0.2, shuffle=True, random_state=2)"
   ]
  },
  {
   "cell_type": "markdown",
   "metadata": {},
   "source": [
    "# KNN"
   ]
  },
  {
   "cell_type": "code",
   "execution_count": 22,
   "metadata": {},
   "outputs": [
    {
     "data": {
      "text/plain": [
       "KNeighborsClassifier(algorithm='auto', leaf_size=30, metric='minkowski',\n",
       "                     metric_params=None, n_jobs=None, n_neighbors=5, p=2,\n",
       "                     weights='uniform')"
      ]
     },
     "execution_count": 22,
     "metadata": {},
     "output_type": "execute_result"
    }
   ],
   "source": [
    "from sklearn.neighbors import KNeighborsClassifier\n",
    "classifier = KNeighborsClassifier(n_neighbors=5)\n",
    "classifier.fit(x_train_1, y_train_1)"
   ]
  },
  {
   "cell_type": "code",
   "execution_count": 23,
   "metadata": {},
   "outputs": [],
   "source": [
    "y_pred = classifier.predict(x_test_1)"
   ]
  },
  {
   "cell_type": "code",
   "execution_count": 24,
   "metadata": {},
   "outputs": [
    {
     "name": "stderr",
     "output_type": "stream",
     "text": [
      "c:\\users\\003560\\appdata\\local\\programs\\python\\python38\\lib\\site-packages\\sklearn\\externals\\joblib\\__init__.py:15: FutureWarning: sklearn.externals.joblib is deprecated in 0.21 and will be removed in 0.23. Please import this functionality directly from joblib, which can be installed with: pip install joblib. If this warning is raised when loading pickled models, you may need to re-serialize those models with scikit-learn 0.21+.\n",
      "  warnings.warn(msg, category=FutureWarning)\n"
     ]
    },
    {
     "data": {
      "text/plain": [
       "['student-id-Knn.pkl']"
      ]
     },
     "execution_count": 24,
     "metadata": {},
     "output_type": "execute_result"
    }
   ],
   "source": [
    "from sklearn.externals import joblib \n",
    "  \n",
    "# Save the model as a pickle in a file \n",
    "joblib.dump(classifier, 'student-id-Knn.pkl')"
   ]
  },
  {
   "cell_type": "code",
   "execution_count": 25,
   "metadata": {},
   "outputs": [
    {
     "name": "stdout",
     "output_type": "stream",
     "text": [
      "[[ 90   0   0]\n",
      " [  1 107   0]\n",
      " [  0   0 102]]\n",
      "              precision    recall  f1-score   support\n",
      "\n",
      "           0       0.99      1.00      0.99        90\n",
      "           1       1.00      0.99      1.00       108\n",
      "           2       1.00      1.00      1.00       102\n",
      "\n",
      "    accuracy                           1.00       300\n",
      "   macro avg       1.00      1.00      1.00       300\n",
      "weighted avg       1.00      1.00      1.00       300\n",
      "\n"
     ]
    }
   ],
   "source": [
    "#Evaluating Model\n",
    "from sklearn.metrics import classification_report, confusion_matrix\n",
    "print(confusion_matrix(y_test_1, y_pred))\n",
    "print(classification_report(y_test_1, y_pred))"
   ]
  },
  {
   "cell_type": "code",
   "execution_count": 26,
   "metadata": {},
   "outputs": [
    {
     "name": "stdout",
     "output_type": "stream",
     "text": [
      "KNN- Accuracy: 99.66666666666667 %.\n"
     ]
    }
   ],
   "source": [
    "accuracy=accuracy_score(y_test_1,y_pred)\n",
    "print('KNN- Accuracy:', accuracy*100, '%.')"
   ]
  },
  {
   "cell_type": "code",
   "execution_count": 27,
   "metadata": {},
   "outputs": [],
   "source": [
    "error = []\n",
    "\n",
    "# Calculating error for K values between 1 and 40\n",
    "for i in range(1, 40):\n",
    "    knn = KNeighborsClassifier(n_neighbors=i)\n",
    "    knn.fit(x_train_1, y_train_1)\n",
    "    pred_i = knn.predict(x_test_1)\n",
    "    error.append(np.mean(pred_i != y_test_1))"
   ]
  },
  {
   "cell_type": "code",
   "execution_count": 28,
   "metadata": {},
   "outputs": [
    {
     "data": {
      "text/plain": [
       "Text(0, 0.5, 'Mean Error')"
      ]
     },
     "execution_count": 28,
     "metadata": {},
     "output_type": "execute_result"
    },
    {
     "data": {
      "image/png": "[encoded data removed]",
      "text/plain": [
       "<Figure size 864x432 with 1 Axes>"
      ]
     },
     "metadata": {
      "needs_background": "light"
     },
     "output_type": "display_data"
    }
   ],
   "source": [
    "plt.figure(figsize=(12, 6))\n",
    "plt.plot(range(1, 40), error, color='red', linestyle='dashed', marker='o',\n",
    "         markerfacecolor='blue', markersize=10)\n",
    "plt.title('Error Rate K Value')\n",
    "plt.xlabel('K Value')\n",
    "plt.ylabel('Mean Error')"
   ]
  },
  {
   "cell_type": "markdown",
   "metadata": {},
   "source": [
    "# Random Forest"
   ]
  },
  {
   "cell_type": "code",
   "execution_count": 29,
   "metadata": {},
   "outputs": [],
   "source": [
    "from sklearn.model_selection import RandomizedSearchCV\n",
    "from sklearn.ensemble import RandomForestClassifier\n",
    "from scipy.stats import uniform, truncnorm, randint"
   ]
  },
  {
   "cell_type": "code",
   "execution_count": 30,
   "metadata": {},
   "outputs": [],
   "source": [
    "model_params={\n",
    "# Number of trees in random forest\n",
    "'n_estimators': [int(x) for x in np.linspace(start = 200, stop = 2000, num = 10)],\n",
    "# Number of features to consider at every split\n",
    "'max_features' : ['auto', 'sqrt'],\n",
    "\n",
    "# Minimum number of samples required to split a node\n",
    "'min_samples_split' : [2, 5, 10],\n",
    "# Minimum number of samples required at each leaf node\n",
    "'min_samples_leaf' : [1, 2, 4] }"
   ]
  },
  {
   "cell_type": "code",
   "execution_count": 31,
   "metadata": {},
   "outputs": [
    {
     "name": "stdout",
     "output_type": "stream",
     "text": [
      "{'bootstrap': True,\n",
      " 'ccp_alpha': 0.0,\n",
      " 'class_weight': None,\n",
      " 'criterion': 'gini',\n",
      " 'max_depth': None,\n",
      " 'max_features': 'sqrt',\n",
      " 'max_leaf_nodes': None,\n",
      " 'max_samples': None,\n",
      " 'min_impurity_decrease': 0.0,\n",
      " 'min_impurity_split': None,\n",
      " 'min_samples_leaf': 1,\n",
      " 'min_samples_split': 10,\n",
      " 'min_weight_fraction_leaf': 0.0,\n",
      " 'n_estimators': 1400,\n",
      " 'n_jobs': None,\n",
      " 'oob_score': False,\n",
      " 'random_state': None,\n",
      " 'verbose': 0,\n",
      " 'warm_start': False}\n"
     ]
    }
   ],
   "source": [
    "# creating random forest model\n",
    "rf_model = RandomForestClassifier()\n",
    "\n",
    "# consturct random search \n",
    "clf = RandomizedSearchCV(rf_model, model_params, n_iter=2, cv=3, random_state=1)\n",
    "\n",
    "model = clf.fit(x_train_1, y_train_1)\n",
    "\n",
    "# printing best set of hyperparameters\n",
    "from pprint import pprint\n",
    "pprint(model.best_estimator_.get_params())"
   ]
  },
  {
   "cell_type": "code",
   "execution_count": 32,
   "metadata": {},
   "outputs": [
    {
     "data": {
      "text/plain": [
       "['student-id-Rf.pkl']"
      ]
     },
     "execution_count": 32,
     "metadata": {},
     "output_type": "execute_result"
    }
   ],
   "source": [
    "from sklearn.externals import joblib\n",
    "  # Save the model as a pickle in a file\n",
    "joblib.dump(model, 'student-id-Rf.pkl')"
   ]
  },
  {
   "cell_type": "code",
   "execution_count": 33,
   "metadata": {},
   "outputs": [],
   "source": [
    "# predictions using the best-performing model\n",
    "predictions = model.predict(x_test_1)"
   ]
  },
  {
   "cell_type": "code",
   "execution_count": 34,
   "metadata": {},
   "outputs": [
    {
     "name": "stdout",
     "output_type": "stream",
     "text": [
      "[[ 90   0   0]\n",
      " [  0 108   0]\n",
      " [  0   0 102]]\n",
      "              precision    recall  f1-score   support\n",
      "\n",
      "           0       1.00      1.00      1.00        90\n",
      "           1       1.00      1.00      1.00       108\n",
      "           2       1.00      1.00      1.00       102\n",
      "\n",
      "    accuracy                           1.00       300\n",
      "   macro avg       1.00      1.00      1.00       300\n",
      "weighted avg       1.00      1.00      1.00       300\n",
      "\n"
     ]
    }
   ],
   "source": [
    "from sklearn.metrics import classification_report, confusion_matrix\n",
    "print(confusion_matrix(y_test_1, predictions))\n",
    "print(classification_report(y_test_1, predictions))"
   ]
  },
  {
   "cell_type": "code",
   "execution_count": 35,
   "metadata": {},
   "outputs": [
    {
     "name": "stdout",
     "output_type": "stream",
     "text": [
      "RF- Accuracy: 100.0 %.\n"
     ]
    }
   ],
   "source": [
    "accuracy=accuracy_score(y_test_1,predictions)\n",
    "print('RF- Accuracy:', accuracy*100, '%.')"
   ]
  },
  {
   "cell_type": "code",
   "execution_count": null,
   "metadata": {},
   "outputs": [],
   "source": []
  }
 ],
 "metadata": {
  "kernelspec": {
   "display_name": "Python 3",
   "language": "python",
   "name": "python3"
  },
  "language_info": {
   "codemirror_mode": {
    "name": "ipython",
    "version": 3
   },
   "file_extension": ".py",
   "mimetype": "text/x-python",
   "name": "python",
   "nbconvert_exporter": "python",
   "pygments_lexer": "ipython3",
   "version": "3.8.1"
  }
 },
 "nbformat": 4,
 "nbformat_minor": 4
}
